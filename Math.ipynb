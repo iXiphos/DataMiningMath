{
  "nbformat": 4,
  "nbformat_minor": 0,
  "metadata": {
    "colab": {
      "name": "Math.ipynb",
      "provenance": [],
      "collapsed_sections": [],
      "authorship_tag": "ABX9TyPJs65kYBCrLwdBlDrxC2OH",
      "include_colab_link": true
    },
    "kernelspec": {
      "name": "python3",
      "display_name": "Python 3"
    },
    "language_info": {
      "name": "python"
    }
  },
  "cells": [
    {
      "cell_type": "markdown",
      "metadata": {
        "id": "view-in-github",
        "colab_type": "text"
      },
      "source": [
        "<a href=\"https://colab.research.google.com/github/iXiphos/DataMiningMath/blob/main/Math.ipynb\" target=\"_parent\"><img src=\"https://colab.research.google.com/assets/colab-badge.svg\" alt=\"Open In Colab\"/></a>"
      ]
    },
    {
      "cell_type": "code",
      "metadata": {
        "colab": {
          "base_uri": "https://localhost:8080/",
          "height": 826
        },
        "id": "RhGVntM637hf",
        "outputId": "8042f32d-135f-4cbe-e8fb-af7e6cbd6dc5"
      },
      "source": [
        "import numpy as np\n",
        "from scipy import stats\n",
        "import matplotlib as plt\n",
        "\n",
        "x = np.random.rand(100)\n",
        "\n",
        "mean = np.mean(x)\n",
        "\n",
        "median = np.median(x)\n",
        "\n",
        "mode = stats.mode(x)\n",
        "\n",
        "std = np.std(x)\n",
        "\n",
        "absMedian = stats.median_absolute_deviation(x)\n",
        "\n",
        "variance = np.var(x)\n",
        "\n",
        "print(mean)\n",
        "print(median)\n",
        "print(mode)\n",
        "print(std)\n",
        "print(absMedian)\n",
        "print(variance)\n",
        "\n",
        "\n",
        "y = np.random.rand(100)\n",
        "\n",
        "correlate = np.corrcoef(y, 2*y)\n",
        "print(correlate)\n",
        "\n",
        "\n",
        "plt.pyplot.scatter(x, y)\n",
        "\n",
        "np.log(y)"
      ],
      "execution_count": 40,
      "outputs": [
        {
          "output_type": "stream",
          "name": "stdout",
          "text": [
            "0.49307820215067466\n",
            "0.49740540010268625\n",
            "ModeResult(mode=array([0.02528933]), count=array([1]))\n",
            "0.2958857862467861\n",
            "0.4134380925133218\n",
            "0.08754839850287878\n",
            "[[1. 1.]\n",
            " [1. 1.]]\n"
          ]
        },
        {
          "output_type": "execute_result",
          "data": {
            "text/plain": [
              "array([-3.03348915e+00, -8.49482102e-01, -1.15269463e+00, -1.45014403e-01,\n",
              "       -1.73070798e+00, -9.26397161e-03, -4.04817714e-02, -3.22634069e+00,\n",
              "       -1.28463046e+00, -3.23127337e-01, -1.70707782e+00, -1.48510226e+00,\n",
              "       -1.37188731e+00, -1.60613008e+00, -1.35963066e+00, -7.12443138e-01,\n",
              "       -1.63718467e+00, -1.55355416e+00, -7.34281650e-01, -1.48750852e+00,\n",
              "       -5.09015873e-01, -7.97932345e-02, -1.96036446e+00, -2.80347970e-01,\n",
              "       -2.27471591e+00, -1.21262257e+00, -3.50993106e-01, -4.82263886e-01,\n",
              "       -9.11373805e-01, -3.24304491e-01, -4.57325404e-01, -4.88409833e-01,\n",
              "       -1.71334602e+00, -1.25959728e+00, -1.11056597e+00, -3.81354204e-01,\n",
              "       -2.12880840e+00, -7.19219391e-01, -4.80688832e+00, -7.41690752e-01,\n",
              "       -2.90827336e-02, -1.07392512e+00, -3.76639776e-02, -4.95749342e-02,\n",
              "       -1.12872491e+00, -1.21199064e+00, -1.83751277e-01, -5.63491868e-02,\n",
              "       -9.04698788e-01, -1.17721418e+00, -6.50400516e-01, -1.36131860e+00,\n",
              "       -8.45134267e-01, -1.05660754e-01, -1.38694231e+00, -3.31912552e-03,\n",
              "       -1.86785225e+00, -3.40814111e+00, -1.05458080e+00, -1.01413220e-01,\n",
              "       -2.99785928e-01, -3.99952550e-01, -8.56943336e-03, -5.30065677e-01,\n",
              "       -2.50119355e-01, -1.59686080e+00, -1.12138446e-01, -7.32242720e-01,\n",
              "       -1.38157105e-01, -6.89687825e-02, -4.20732892e-01, -3.95761895e-01,\n",
              "       -5.22247231e-01, -9.80952877e-01, -3.25446224e+00, -5.33175318e-01,\n",
              "       -2.00366098e+00, -7.16479296e-01, -6.64849327e-01, -1.50418322e+00,\n",
              "       -1.51691372e+00, -2.73302714e-02, -5.27148956e-01, -6.15144424e-01,\n",
              "       -1.29541101e+00, -4.28732035e-01, -7.70610643e-01, -1.23990449e-01,\n",
              "       -1.09665924e+00, -1.50310677e-01, -1.20667008e+00, -3.92103994e-01,\n",
              "       -6.81013827e-03, -2.84436261e-02, -1.08845301e+00, -3.95581217e-01,\n",
              "       -1.04789806e+00, -4.63719927e-01, -1.92666186e-01, -2.65836621e-01])"
            ]
          },
          "metadata": {},
          "execution_count": 40
        },
        {
          "output_type": "display_data",
          "data": {
            "image/png": "[encoded data removed]",
            "text/plain": [
              "<Figure size 432x288 with 1 Axes>"
            ]
          },
          "metadata": {
            "needs_background": "light"
          }
        }
      ]
    },
    {
      "cell_type": "code",
      "metadata": {
        "id": "64O7oeS08Juz"
      },
      "source": [
        ""
      ],
      "execution_count": null,
      "outputs": []
    }
  ]
}