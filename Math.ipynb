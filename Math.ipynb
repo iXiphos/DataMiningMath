{
  "nbformat": 4,
  "nbformat_minor": 0,
  "metadata": {
    "colab": {
      "name": "Math.ipynb",
      "provenance": [],
      "collapsed_sections": [],
      "authorship_tag": "ABX9TyMvapjCrppoEkESyadbaDTP",
      "include_colab_link": true
    },
    "kernelspec": {
      "name": "python3",
      "display_name": "Python 3"
    },
    "language_info": {
      "name": "python"
    }
  },
  "cells": [
    {
      "cell_type": "markdown",
      "metadata": {
        "id": "view-in-github",
        "colab_type": "text"
      },
      "source": [
        "<a href=\"https://colab.research.google.com/github/iXiphos/DataMiningMath/blob/main/Math.ipynb\" target=\"_parent\"><img src=\"https://colab.research.google.com/assets/colab-badge.svg\" alt=\"Open In Colab\"/></a>"
      ]
    },
    {
      "cell_type": "code",
      "metadata": {
        "colab": {
          "base_uri": "https://localhost:8080/",
          "height": 418
        },
        "id": "RhGVntM637hf",
        "outputId": "e9b04af0-16e8-405f-d31b-bc093dc588d2"
      },
      "source": [
        "import numpy as np\n",
        "from scipy import stats\n",
        "import matplotlib as plt\n",
        "from sklearn.linear_model import LinearRegression\n",
        "\n",
        "x = np.random.rand(100)\n",
        "\n",
        "mean = np.mean(x)\n",
        "\n",
        "median = np.median(x)\n",
        "\n",
        "mode = stats.mode(x)\n",
        "\n",
        "std = np.std(x)\n",
        "\n",
        "absMedian = stats.median_absolute_deviation(x)\n",
        "\n",
        "variance = np.var(x)\n",
        "\n",
        "print(mean)\n",
        "print(median)\n",
        "print(mode)\n",
        "print(std)\n",
        "print(absMedian)\n",
        "print(variance)\n",
        "\n",
        "\n",
        "y = np.random.rand(100)\n",
        "\n",
        "correlate = np.corrcoef(y, 2*y)\n",
        "print(correlate)\n",
        "\n",
        "\n",
        "plt.pyplot.scatter(x, y)\n",
        "np.log(y)\n",
        "\n",
        "\n",
        "\n",
        "\n",
        "reg = LinearRegression().fit(x.reshape(-1,1),y.reshape(-1, 1))\n",
        "r = reg.score(x.reshape(-1,1),y.reshape(-1, 1))\n",
        "modeled_y = reg.predict(x.reshape(-1, 1))\n",
        "plt.pyplot.plot(x, modeled_y);\n",
        "print(r)"
      ],
      "execution_count": 14,
      "outputs": [
        {
          "output_type": "stream",
          "name": "stdout",
          "text": [
            "0.5149045596195839\n",
            "0.5430093425624627\n",
            "ModeResult(mode=array([0.00306567]), count=array([1]))\n",
            "0.2976391357305562\n",
            "0.4214221289682093\n",
            "0.08858905511843246\n",
            "[[1. 1.]\n",
            " [1. 1.]]\n",
            "0.007640088691479252\n"
          ]
        },
        {
          "output_type": "display_data",
          "data": {
            "image/png": "[encoded data removed]",
            "text/plain": [
              "<Figure size 432x288 with 1 Axes>"
            ]
          },
          "metadata": {
            "needs_background": "light"
          }
        }
      ]
    },
    {
      "cell_type": "code",
      "metadata": {
        "colab": {
          "base_uri": "https://localhost:8080/",
          "height": 282
        },
        "id": "aYnek3j6dcdw",
        "outputId": "d9f87c2f-fb9d-4899-af89-44f010341809"
      },
      "source": [
        "import numpy as np\n",
        "from scipy import stats\n",
        "import matplotlib as plt\n",
        "from sklearn.linear_model import LinearRegression\n",
        "import pandas as pd\n",
        "\n",
        "x = np.random.rand(100)\n",
        "y = np.random.rand(100)\n",
        "z = x + y\n",
        "\n",
        "plt.pyplot.scatter(x, z)\n",
        "\n",
        "reg = LinearRegression().fit(x.reshape(-1,1),z.reshape(-1, 1))\n",
        "r = reg.score(x.reshape(-1,1),z.reshape(-1, 1))\n",
        "modeled_y = reg.predict(x.reshape(-1, 1))\n",
        "plt.pyplot.plot(x, modeled_y);\n",
        "print(r)"
      ],
      "execution_count": 42,
      "outputs": [
        {
          "output_type": "stream",
          "name": "stdout",
          "text": [
            "0.5585483174845313\n"
          ]
        },
        {
          "output_type": "display_data",
          "data": {
            "image/png": "[encoded data removed]",
            "text/plain": [
              "<Figure size 432x288 with 1 Axes>"
            ]
          },
          "metadata": {
            "needs_background": "light"
          }
        }
      ]
    },
    {
      "cell_type": "code",
      "metadata": {
        "id": "zNi2G5JPir6u"
      },
      "source": [
        "import pandas as pd\n",
        "\n",
        "pd.read_csv()\n"
      ],
      "execution_count": null,
      "outputs": []
    },
    {
      "cell_type": "code",
      "metadata": {
        "id": "64O7oeS08Juz"
      },
      "source": [
        ""
      ],
      "execution_count": null,
      "outputs": []
    }
  ]
}