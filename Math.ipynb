{
  "nbformat": 4,
  "nbformat_minor": 0,
  "metadata": {
    "colab": {
      "name": "Math.ipynb",
      "provenance": [],
      "authorship_tag": "ABX9TyNonmmRlmuhXJPDxUhRdW/G",
      "include_colab_link": true
    },
    "kernelspec": {
      "name": "python3",
      "display_name": "Python 3"
    },
    "language_info": {
      "name": "python"
    }
  },
  "cells": [
    {
      "cell_type": "markdown",
      "metadata": {
        "id": "view-in-github",
        "colab_type": "text"
      },
      "source": [
        "<a href=\"https://colab.research.google.com/github/iXiphos/DataMiningMath/blob/main/Math.ipynb\" target=\"_parent\"><img src=\"https://colab.research.google.com/assets/colab-badge.svg\" alt=\"Open In Colab\"/></a>"
      ]
    },
    {
      "cell_type": "code",
      "metadata": {
        "colab": {
          "base_uri": "https://localhost:8080/"
        },
        "id": "RhGVntM637hf",
        "outputId": "49512d96-f156-401e-ec9f-fc461fffc9b6"
      },
      "source": [
        "import numpy as np\n",
        "from scipy import stats\n",
        "import matplotlib\n",
        "\n",
        "x = np.random.rand(100)\n",
        "\n",
        "np.mean(x)\n",
        "\n",
        "np.median(x)\n",
        "\n",
        "stats.mode(x)\n"
      ],
      "execution_count": 9,
      "outputs": [
        {
          "output_type": "execute_result",
          "data": {
            "text/plain": [
              "ModeResult(mode=array([0.00101028]), count=array([1]))"
            ]
          },
          "metadata": {},
          "execution_count": 9
        }
      ]
    }
  ]
}