{
  "nbformat": 4,
  "nbformat_minor": 0,
  "metadata": {
    "colab": {
      "name": "Math.ipynb",
      "provenance": [],
      "authorship_tag": "ABX9TyMrDFOVcG8chCpbTPdgIeoD",
      "include_colab_link": true
    },
    "kernelspec": {
      "name": "python3",
      "display_name": "Python 3"
    },
    "language_info": {
      "name": "python"
    }
  },
  "cells": [
    {
      "cell_type": "markdown",
      "metadata": {
        "id": "view-in-github",
        "colab_type": "text"
      },
      "source": [
        "<a href=\"https://colab.research.google.com/github/iXiphos/DataMiningMath/blob/main/Math.ipynb\" target=\"_parent\"><img src=\"https://colab.research.google.com/assets/colab-badge.svg\" alt=\"Open In Colab\"/></a>"
      ]
    },
    {
      "cell_type": "code",
      "metadata": {
        "colab": {
          "base_uri": "https://localhost:8080/"
        },
        "id": "RhGVntM637hf",
        "outputId": "1b5d2ef7-6512-4a7e-ed5d-9194cabeca2a"
      },
      "source": [
        "import numpy as np\n",
        "from scipy import stats\n",
        "import matplotlib\n",
        "\n",
        "x = np.random.rand(100)\n",
        "\n",
        "mean = np.mean(x)\n",
        "\n",
        "median = np.median(x)\n",
        "\n",
        "mode = stats.mode(x)\n",
        "\n",
        "print(mean)\n",
        "print(median)\n",
        "print(mode)"
      ],
      "execution_count": 17,
      "outputs": [
        {
          "output_type": "stream",
          "name": "stdout",
          "text": [
            "0.5196457312847489\n",
            "0.5486569976812078\n",
            "ModeResult(mode=array([0.00787283]), count=array([1]))\n"
          ]
        }
      ]
    }
  ]
}