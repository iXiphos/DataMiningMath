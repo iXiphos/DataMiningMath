{
  "nbformat": 4,
  "nbformat_minor": 0,
  "metadata": {
    "colab": {
      "name": "Math.ipynb",
      "provenance": [],
      "collapsed_sections": [],
      "authorship_tag": "ABX9TyM6vBr18nl+8aMyNSv+q/Mm",
      "include_colab_link": true
    },
    "kernelspec": {
      "name": "python3",
      "display_name": "Python 3"
    },
    "language_info": {
      "name": "python"
    }
  },
  "cells": [
    {
      "cell_type": "markdown",
      "metadata": {
        "id": "view-in-github",
        "colab_type": "text"
      },
      "source": [
        "<a href=\"https://colab.research.google.com/github/iXiphos/DataMiningMath/blob/main/Math.ipynb\" target=\"_parent\"><img src=\"https://colab.research.google.com/assets/colab-badge.svg\" alt=\"Open In Colab\"/></a>"
      ]
    },
    {
      "cell_type": "code",
      "metadata": {
        "colab": {
          "base_uri": "https://localhost:8080/",
          "height": 418
        },
        "id": "RhGVntM637hf",
        "outputId": "32f67a42-5da1-4cb3-bba8-ccd3717ce57f"
      },
      "source": [
        "import numpy as np\n",
        "from scipy import stats\n",
        "import matplotlib as plt\n",
        "\n",
        "x = np.random.rand(100)\n",
        "\n",
        "mean = np.mean(x)\n",
        "\n",
        "median = np.median(x)\n",
        "\n",
        "mode = stats.mode(x)\n",
        "\n",
        "std = np.std(x)\n",
        "\n",
        "absMedian = stats.median_absolute_deviation(x)\n",
        "\n",
        "variance = np.var(x)\n",
        "\n",
        "print(mean)\n",
        "print(median)\n",
        "print(mode)\n",
        "print(std)\n",
        "print(absMedian)\n",
        "print(variance)\n",
        "\n",
        "\n",
        "y = np.random.rand(100)\n",
        "\n",
        "correlate = np.corrcoef(y, 2*y)\n",
        "print(correlate)\n",
        "\n",
        "\n",
        "plt.pyplot.scatter(x, y)"
      ],
      "execution_count": 37,
      "outputs": [
        {
          "output_type": "stream",
          "name": "stdout",
          "text": [
            "0.5191577858949797\n",
            "0.5267041610616874\n",
            "ModeResult(mode=array([0.01114123]), count=array([1]))\n",
            "0.27258222419097883\n",
            "0.30302346421755855\n",
            "0.07430106894490106\n",
            "[[1. 1.]\n",
            " [1. 1.]]\n"
          ]
        },
        {
          "output_type": "execute_result",
          "data": {
            "text/plain": [
              "<matplotlib.collections.PathCollection at 0x7efe2c4e7790>"
            ]
          },
          "metadata": {},
          "execution_count": 37
        },
        {
          "output_type": "display_data",
          "data": {
            "image/png": "[encoded data removed]",
            "text/plain": [
              "<Figure size 432x288 with 1 Axes>"
            ]
          },
          "metadata": {
            "needs_background": "light"
          }
        }
      ]
    },
    {
      "cell_type": "code",
      "metadata": {
        "id": "64O7oeS08Juz"
      },
      "source": [
        ""
      ],
      "execution_count": null,
      "outputs": []
    }
  ]
}