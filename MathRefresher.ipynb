{
  "nbformat": 4,
  "nbformat_minor": 0,
  "metadata": {
    "colab": {
      "name": "Copy of MathRefresher.ipynb",
      "provenance": [],
      "include_colab_link": true
    },
    "kernelspec": {
      "name": "python3",
      "display_name": "Python 3"
    },
    "language_info": {
      "name": "python"
    }
  },
  "cells": [
    {
      "cell_type": "markdown",
      "metadata": {
        "id": "view-in-github",
        "colab_type": "text"
      },
      "source": [
        "<a href=\"https://colab.research.google.com/github/iXiphos/DataMiningMath/blob/main/MathRefresher.ipynb\" target=\"_parent\"><img src=\"https://colab.research.google.com/assets/colab-badge.svg\" alt=\"Open In Colab\"/></a>"
      ]
    },
    {
      "cell_type": "code",
      "metadata": {
        "colab": {
          "base_uri": "https://localhost:8080/",
          "height": 282
        },
        "id": "7s593UnaIGdB",
        "outputId": "584e3717-3ef4-4ab8-db92-6bfdd5d5ead8"
      },
      "source": [
        "import numpy as np\n",
        "from sklearn.linear_model import LinearRegression\n",
        "import matplotlib as mp\n",
        "\n",
        "x = np.random.rand(100)\n",
        "x = x.reshape(-1,1)\n",
        "y = np.random.rand(100)\n",
        "y = y.reshape(-1,1)\n",
        "\n",
        "# create scatter plot\n",
        "mp.pyplot.scatter(x,y)\n",
        "\n",
        "#Find best fit\n",
        "xy_model = LinearRegression().fit(x,y)\n",
        "xy_model.score(x,y)\n",
        "\n",
        "modeled_y = xy_model.predict(x)\n",
        "mp.pyplot.plot(x,modeled_y)\n"
      ],
      "execution_count": 1,
      "outputs": [
        {
          "output_type": "execute_result",
          "data": {
            "text/plain": [
              "[<matplotlib.lines.Line2D at 0x7fcf811ef990>]"
            ]
          },
          "metadata": {},
          "execution_count": 1
        },
        {
          "output_type": "display_data",
          "data": {
            "image/png": "[encoded data removed]",
            "text/plain": [
              "<Figure size 432x288 with 1 Axes>"
            ]
          },
          "metadata": {
            "needs_background": "light"
          }
        }
      ]
    },
    {
      "cell_type": "code",
      "metadata": {
        "colab": {
          "base_uri": "https://localhost:8080/",
          "height": 282
        },
        "id": "ym62hrM_LKwg",
        "outputId": "ca46c0c6-082a-4df6-e15e-6304b1dc2305"
      },
      "source": [
        "import numpy as np\n",
        "from sklearn.linear_model import LinearRegression\n",
        "import matplotlib as mp\n",
        "\n",
        "x = np.random.rand(100)\n",
        "y = np.random.rand(100)\n",
        "z = x + y\n",
        "x = x.reshape(-1,1)\n",
        "z = z.reshape(-1,1)\n",
        "\n",
        "mp.pyplot.scatter(x,z)\n",
        "\n",
        "xz_model = LinearRegression().fit(x,z)\n",
        "xz_model.score(x,z)\n",
        "\n",
        "modeled_z = xz_model.predict(x)\n",
        "mp.pyplot.plot(x,modeled_z)\n",
        "\n"
      ],
      "execution_count": 2,
      "outputs": [
        {
          "output_type": "execute_result",
          "data": {
            "text/plain": [
              "[<matplotlib.lines.Line2D at 0x7fcf80cea650>]"
            ]
          },
          "metadata": {},
          "execution_count": 2
        },
        {
          "output_type": "display_data",
          "data": {
            "image/png": "[encoded data removed]",
            "text/plain": [
              "<Figure size 432x288 with 1 Axes>"
            ]
          },
          "metadata": {
            "needs_background": "light"
          }
        }
      ]
    }
  ]
}